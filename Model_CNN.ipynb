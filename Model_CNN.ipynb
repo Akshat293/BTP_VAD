{
  "nbformat": 4,
  "nbformat_minor": 0,
  "metadata": {
    "colab": {
      "provenance": []
    },
    "kernelspec": {
      "name": "python3",
      "display_name": "Python 3"
    },
    "language_info": {
      "name": "python"
    }
  },
  "cells": [
    {
      "cell_type": "code",
      "execution_count": null,
      "metadata": {
        "id": "f9h7T96pnDo3"
      },
      "outputs": [],
      "source": [
        "import numpy as np\n",
        "import pandas as pd\n",
        "import torch\n",
        "import torch.nn as nn\n",
        "import matplotlib.pyplot as plt\n",
        "import torch.utils.data as data\n",
        "import torchvision\n",
        "import torch.nn.functional as F\n",
        "import torchvision.transforms as T\n",
        "import os"
      ]
    },
    {
      "cell_type": "code",
      "source": [
        "from google.colab import drive\n",
        "drive.mount('/content/drive')\n",
        "\n"
      ],
      "metadata": {
        "colab": {
          "base_uri": "https://localhost:8080/"
        },
        "id": "NTfJsMPcp3ml",
        "outputId": "fa672e12-a908-4df2-9c25-a916e0144baa"
      },
      "execution_count": null,
      "outputs": [
        {
          "output_type": "stream",
          "name": "stdout",
          "text": [
            "Drive already mounted at /content/drive; to attempt to forcibly remount, call drive.mount(\"/content/drive\", force_remount=True).\n"
          ]
        }
      ]
    },
    {
      "cell_type": "code",
      "source": [
        "# Get the device\n",
        "device = torch.device(\"cuda\" if torch.cuda.is_available() else \"cpu\")\n",
        "# Get the data set\n",
        "OUTPUT_DIR = '/content/drive/MyDrive/audio-images/'\n",
        "!ls '/content/drive/MyDrive/audio-images/'\n",
        "\n",
        "# Hyperparameters\n",
        "IMAGE_HEIGHT = 256\n",
        "IMAGE_WIDTH = 256\n",
        "BATCH_SIZE = 32\n",
        "num_classes = 10\n",
        "\n",
        "\n"
      ],
      "metadata": {
        "id": "yj15_WcqrFok",
        "colab": {
          "base_uri": "https://localhost:8080/"
        },
        "outputId": "79d8d128-6493-4d99-aaf3-39a15d4e8ad1"
      },
      "execution_count": null,
      "outputs": [
        {
          "output_type": "stream",
          "name": "stdout",
          "text": [
            "class_0  class_2  class_4  class_6  class_8\n",
            "class_1  class_3  class_5  class_7  class_9\n"
          ]
        }
      ]
    },
    {
      "cell_type": "code",
      "source": [
        "!pwd "
      ],
      "metadata": {
        "colab": {
          "base_uri": "https://localhost:8080/"
        },
        "id": "F9Rmab23_xMi",
        "outputId": "63352b75-67d3-43e8-f89b-55149353a01b"
      },
      "execution_count": null,
      "outputs": [
        {
          "output_type": "stream",
          "name": "stdout",
          "text": [
            "/content\n"
          ]
        }
      ]
    },
    {
      "cell_type": "code",
      "source": [],
      "metadata": {
        "id": "vJi-ZUa6OxU4"
      },
      "execution_count": null,
      "outputs": []
    },
    {
      "cell_type": "code",
      "source": [
        "train_dataset = torchvision.datasets.ImageFolder(\n",
        "    OUTPUT_DIR,\n",
        "    transform=torchvision.transforms.Compose([\n",
        "        torchvision.transforms.Resize((IMAGE_HEIGHT, IMAGE_WIDTH)),\n",
        "        torchvision.transforms.ToTensor(),\n",
        "        torchvision.transforms.Normalize(mean=[0.485, 0.456, 0.406],\n",
        "                                         std=[0.229, 0.224, 0.225])\n",
        "    ]),\n",
        "    target_transform=None,\n",
        "    is_valid_file=None\n",
        ")"
      ],
      "metadata": {
        "id": "sMYkfiuu-0KW"
      },
      "execution_count": null,
      "outputs": []
    },
    {
      "cell_type": "code",
      "source": [
        "train_size = int(0.8 * len(train_dataset))\n",
        "valid_size = len(train_dataset) - train_size\n",
        "train_dataset, valid_dataset = torch.utils.data.random_split(train_dataset, [train_size, valid_size])\n",
        "# Create the dataloaders\n",
        "train_dataloader = torch.utils.data.DataLoader(\n",
        "    train_dataset,\n",
        "    batch_size=BATCH_SIZE,\n",
        "    shuffle=True,\n",
        "    num_workers=0,\n",
        "    pin_memory=True\n",
        ")\n",
        "valid_dataloader = torch.utils.data.DataLoader(\n",
        "    valid_dataset,\n",
        "    batch_size=BATCH_SIZE,\n",
        "    shuffle=False,\n",
        "    num_workers=0,\n",
        "    pin_memory=True\n",
        ")"
      ],
      "metadata": {
        "id": "v44omDWpAboq"
      },
      "execution_count": null,
      "outputs": []
    },
    {
      "cell_type": "code",
      "source": [
        "def prepare(ds, augment=False):\n",
        "    # Define our one transformation\n",
        "    rescale = T.Compose([T.ToTensor(), T.Normalize((0.5,), (0.5,))])\n",
        "    flip_and_rotate = T.Compose([T.RandomHorizontalFlip(), T.RandomRotation(30)])\n",
        "    \n",
        "    # Apply rescale to both datasets and augmentation only to training\n",
        "    if augment:\n",
        "        ds =torchvision.datasets.ImageFolder( OUTPUT_DIR, transform=flip_and_rotate)\n",
        "    ds = torchvision.datasets.ImageFolder(OUTPUT_DIR, transform=rescale)\n",
        "    return ds"
      ],
      "metadata": {
        "id": "ivli1b8vAl02"
      },
      "execution_count": null,
      "outputs": []
    },
    {
      "cell_type": "code",
      "source": [],
      "metadata": {
        "id": "CxSBb5ZK9hXT"
      },
      "execution_count": null,
      "outputs": []
    },
    {
      "cell_type": "code",
      "source": [
        "class Net(nn.Module):\n",
        "    def __init__(self):\n",
        "        super(Net, self).__init__()\n",
        "        self.conv1 = nn.Conv2d(3, 32, kernel_size=3, stride=2, padding=1)\n",
        "        self.pool = nn.MaxPool2d(2,2)\n",
        "        self.conv2 = nn.Conv2d(32, 64, kernel_size=3, padding=1)\n",
        "        self.conv3 = nn.Conv2d(64, 128, kernel_size=3, padding=1)\n",
        "        self.fc1 = nn.Linear(128 * 16 * 16, 256)\n",
        "        self.fc2 = nn.Linear(256, num_classes)\n",
        "\n",
        "    def forward(self, x):\n",
        "        x = self.pool(F.relu(self.conv1(x)))\n",
        "        x = self.pool(F.relu(self.conv2(x)))\n",
        "        x = self.pool(F.relu(self.conv3(x)))\n",
        "        x = x.view(x.size(0), -1)\n",
        "        x = F.relu(self.fc1(x))\n",
        "        x = self.fc2(x)\n",
        "        return x\n",
        "\n",
        "model = Net().to(device)\n",
        "\n",
        "# Define the loss function and optimizer\n",
        "criterion = nn.CrossEntropyLoss()\n",
        "optimizer = torch.optim.RMSprop(model.parameters(), lr=0.001)\n",
        "\n",
        "# Train the model\n",
        "num_epochs = 10\n",
        "total_step = len(train_dataloader)\n",
        "loss_list = []\n",
        "acc_list = []\n",
        "for epoch in range(num_epochs):\n",
        "    for i, (images, labels) in enumerate(train_dataloader):\n",
        "        images = images.to(device)\n",
        "        labels = torch.from_numpy(np.array(labels)).to(device)\n",
        "        # Forward pass\n",
        "        outputs = model(images)\n",
        "        loss = criterion(outputs, labels)\n",
        "        loss_list.append(loss.item())\n",
        "        # Backward and optimize\n",
        "        optimizer.zero_grad()\n",
        "        loss.backward()\n",
        "        optimizer.step()\n",
        "        # Track the accuracy\n",
        "        total = labels.size(0)\n",
        "        _, predicted = torch.max(outputs.data, 1)\n",
        "        correct = (predicted == labels).sum().item()\n",
        "        acc_list.append(correct / total)\n",
        "        if (i + 1) % 10 == 0:\n",
        "            print('Epoch [{}/{}], Step [{}/{}], Loss: {:.4f}, Accuracy: {:.2f}%'\n",
        "                  .format(epoch + 1, num_epochs, i + 1, total_step, loss.item(),\n",
        "                          (correct / total) * 100))"
      ],
      "metadata": {
        "colab": {
          "base_uri": "https://localhost:8080/"
        },
        "id": "0t1x6mvZA2Rl",
        "outputId": "d60be2b1-edd0-473e-97d1-d40766de863b"
      },
      "execution_count": null,
      "outputs": [
        {
          "output_type": "stream",
          "name": "stdout",
          "text": [
            "Epoch [1/10], Step [10/60], Loss: 2.0796, Accuracy: 21.88%\n",
            "Epoch [1/10], Step [20/60], Loss: 1.7700, Accuracy: 43.75%\n",
            "Epoch [1/10], Step [30/60], Loss: 1.2546, Accuracy: 65.62%\n",
            "Epoch [1/10], Step [40/60], Loss: 0.7843, Accuracy: 75.00%\n",
            "Epoch [1/10], Step [50/60], Loss: 0.9430, Accuracy: 71.88%\n",
            "Epoch [1/10], Step [60/60], Loss: 0.4104, Accuracy: 84.38%\n",
            "Epoch [2/10], Step [10/60], Loss: 0.3099, Accuracy: 93.75%\n",
            "Epoch [2/10], Step [20/60], Loss: 0.1721, Accuracy: 100.00%\n",
            "Epoch [2/10], Step [30/60], Loss: 0.2943, Accuracy: 90.62%\n",
            "Epoch [2/10], Step [40/60], Loss: 0.2184, Accuracy: 93.75%\n",
            "Epoch [2/10], Step [50/60], Loss: 0.2673, Accuracy: 90.62%\n",
            "Epoch [2/10], Step [60/60], Loss: 0.1250, Accuracy: 96.88%\n",
            "Epoch [3/10], Step [10/60], Loss: 0.2637, Accuracy: 90.62%\n",
            "Epoch [3/10], Step [20/60], Loss: 0.2702, Accuracy: 90.62%\n",
            "Epoch [3/10], Step [30/60], Loss: 0.2313, Accuracy: 84.38%\n",
            "Epoch [3/10], Step [40/60], Loss: 0.0984, Accuracy: 93.75%\n",
            "Epoch [3/10], Step [50/60], Loss: 0.0189, Accuracy: 100.00%\n",
            "Epoch [3/10], Step [60/60], Loss: 0.1346, Accuracy: 93.75%\n",
            "Epoch [4/10], Step [10/60], Loss: 0.1848, Accuracy: 90.62%\n",
            "Epoch [4/10], Step [20/60], Loss: 0.0710, Accuracy: 96.88%\n",
            "Epoch [4/10], Step [30/60], Loss: 0.3036, Accuracy: 87.50%\n",
            "Epoch [4/10], Step [40/60], Loss: 0.1966, Accuracy: 96.88%\n",
            "Epoch [4/10], Step [50/60], Loss: 0.0837, Accuracy: 100.00%\n",
            "Epoch [4/10], Step [60/60], Loss: 0.0211, Accuracy: 100.00%\n",
            "Epoch [5/10], Step [10/60], Loss: 0.0025, Accuracy: 100.00%\n",
            "Epoch [5/10], Step [20/60], Loss: 0.0485, Accuracy: 100.00%\n",
            "Epoch [5/10], Step [30/60], Loss: 0.0728, Accuracy: 96.88%\n",
            "Epoch [5/10], Step [40/60], Loss: 0.0094, Accuracy: 100.00%\n",
            "Epoch [5/10], Step [50/60], Loss: 0.0966, Accuracy: 93.75%\n",
            "Epoch [5/10], Step [60/60], Loss: 0.0424, Accuracy: 100.00%\n",
            "Epoch [6/10], Step [10/60], Loss: 0.0035, Accuracy: 100.00%\n",
            "Epoch [6/10], Step [20/60], Loss: 0.0122, Accuracy: 100.00%\n",
            "Epoch [6/10], Step [30/60], Loss: 0.0090, Accuracy: 100.00%\n",
            "Epoch [6/10], Step [40/60], Loss: 0.0556, Accuracy: 96.88%\n",
            "Epoch [6/10], Step [50/60], Loss: 0.0067, Accuracy: 100.00%\n",
            "Epoch [6/10], Step [60/60], Loss: 0.0064, Accuracy: 100.00%\n",
            "Epoch [7/10], Step [10/60], Loss: 0.0033, Accuracy: 100.00%\n",
            "Epoch [7/10], Step [20/60], Loss: 0.0072, Accuracy: 100.00%\n",
            "Epoch [7/10], Step [30/60], Loss: 0.0221, Accuracy: 100.00%\n",
            "Epoch [7/10], Step [40/60], Loss: 0.0362, Accuracy: 96.88%\n",
            "Epoch [7/10], Step [50/60], Loss: 0.7807, Accuracy: 81.25%\n",
            "Epoch [7/10], Step [60/60], Loss: 0.0867, Accuracy: 100.00%\n",
            "Epoch [8/10], Step [10/60], Loss: 0.0153, Accuracy: 100.00%\n",
            "Epoch [8/10], Step [20/60], Loss: 0.0085, Accuracy: 100.00%\n",
            "Epoch [8/10], Step [30/60], Loss: 0.0055, Accuracy: 100.00%\n",
            "Epoch [8/10], Step [40/60], Loss: 0.1172, Accuracy: 96.88%\n",
            "Epoch [8/10], Step [50/60], Loss: 0.0011, Accuracy: 100.00%\n",
            "Epoch [8/10], Step [60/60], Loss: 0.0091, Accuracy: 100.00%\n",
            "Epoch [9/10], Step [10/60], Loss: 0.0075, Accuracy: 100.00%\n",
            "Epoch [9/10], Step [20/60], Loss: 0.0015, Accuracy: 100.00%\n",
            "Epoch [9/10], Step [30/60], Loss: 0.0247, Accuracy: 96.88%\n",
            "Epoch [9/10], Step [40/60], Loss: 0.0492, Accuracy: 96.88%\n",
            "Epoch [9/10], Step [50/60], Loss: 0.0041, Accuracy: 100.00%\n",
            "Epoch [9/10], Step [60/60], Loss: 0.0051, Accuracy: 100.00%\n",
            "Epoch [10/10], Step [10/60], Loss: 0.0012, Accuracy: 100.00%\n",
            "Epoch [10/10], Step [20/60], Loss: 0.0125, Accuracy: 100.00%\n",
            "Epoch [10/10], Step [30/60], Loss: 0.0027, Accuracy: 100.00%\n",
            "Epoch [10/10], Step [40/60], Loss: 0.0032, Accuracy: 100.00%\n",
            "Epoch [10/10], Step [50/60], Loss: 0.0010, Accuracy: 100.00%\n",
            "Epoch [10/10], Step [60/60], Loss: 0.0019, Accuracy: 100.00%\n"
          ]
        }
      ]
    },
    {
      "cell_type": "code",
      "source": [
        "plt.figure(figsize=(12, 6))\n",
        "plt.subplot(1, 2, 1)\n",
        "plt.plot(loss_list)\n",
        "plt.title(\"Loss curve\")\n",
        "plt.subplot(1, 2, 2)\n",
        "plt.plot(acc_list)\n",
        "plt.title(\"Accuracy curve\")\n",
        "plt.show()\n"
      ],
      "metadata": {
        "colab": {
          "base_uri": "https://localhost:8080/",
          "height": 390
        },
        "id": "9-db1Ca4IJCg",
        "outputId": "5a531892-3c10-44a3-f5f1-a27ee8d028dc"
      },
      "execution_count": null,
      "outputs": [
        {
          "output_type": "display_data",
          "data": {
            "text/plain": [
              "<Figure size 864x432 with 2 Axes>"
            ],
            "image/png": "[encoded data removed]"
          },
          "metadata": {
            "needs_background": "light"
          }
        }
      ]
    },
    {
      "cell_type": "code",
      "source": [
        "with torch.no_grad():\n",
        "    correct = 0\n",
        "    total = 0\n",
        "    for images, labels in valid_dataloader:\n",
        "        images = images.to(device)\n",
        "        labels = torch.from_numpy(np.array(labels)).to(device)\n",
        "        outputs = model(images)\n",
        "        _, predicted = torch.max(outputs.data, 1)\n",
        "        total += labels.size(0)\n",
        "        correct += (predicted == labels).sum().item()\n",
        "\n",
        "    print('Test Accuracy of the model on the {} test images: {} %'.format(total, (correct / total) * 100))"
      ],
      "metadata": {
        "colab": {
          "base_uri": "https://localhost:8080/"
        },
        "id": "NS6hjDnOIOjr",
        "outputId": "a07a7629-cbce-4922-d507-380522e2ee06"
      },
      "execution_count": null,
      "outputs": [
        {
          "output_type": "stream",
          "name": "stdout",
          "text": [
            "Test Accuracy of the model on the 480 test images: 96.25 %\n"
          ]
        }
      ]
    },
    {
      "cell_type": "code",
      "source": [
        "!ls '/content/drive/MyDrive/audio-images/class_0/'\n",
        "test_dataset = torchvision.datasets.ImageFolder(\n",
        "    '/content/drive/MyDrive/audio-images/',\n",
        "    transform=torchvision.transforms.Compose([\n",
        "        torchvision.transforms.Resize((IMAGE_HEIGHT, IMAGE_WIDTH)),\n",
        "        torchvision.transforms.ToTensor(),\n",
        "        torchvision.transforms.Normalize(mean=[0.485, 0.456, 0.406],\n",
        "                                         std=[0.229, 0.224, 0.225])\n",
        "    ]),\n",
        "    target_transform=None,\n",
        "    is_valid_file=None\n",
        ")\n",
        "test_dataloader = torch.utils.data.DataLoader(\n",
        "    train_dataset,\n",
        "    batch_size=BATCH_SIZE,\n",
        "    shuffle=True,\n",
        "    num_workers=0,\n",
        "    pin_memory=True\n",
        ")\n",
        "images, labels = next(iter(test_dataloader))\n",
        "with torch.no_grad():\n",
        "    out = model(images)\n",
        "    _, predicted = torch.max(out.data, 1)\n",
        "    print(\"Predicted class:\", predicted)\n"
      ],
      "metadata": {
        "colab": {
          "base_uri": "https://localhost:8080/"
        },
        "id": "wWLqViKBLqiE",
        "outputId": "aa6cc9c9-1571-4bac-d992-31048d7f1384"
      },
      "execution_count": null,
      "outputs": [
        {
          "output_type": "stream",
          "name": "stdout",
          "text": [
            "0_george_0.png\t  0_jackson_32.png  0_nicolas_0.png   0_theo_32.png\n",
            "0_george_10.png   0_jackson_33.png  0_nicolas_10.png  0_theo_33.png\n",
            "0_george_11.png   0_jackson_34.png  0_nicolas_11.png  0_theo_34.png\n",
            "0_george_12.png   0_jackson_35.png  0_nicolas_12.png  0_theo_35.png\n",
            "0_george_13.png   0_jackson_36.png  0_nicolas_13.png  0_theo_36.png\n",
            "0_george_14.png   0_jackson_37.png  0_nicolas_14.png  0_theo_37.png\n",
            "0_george_15.png   0_jackson_38.png  0_nicolas_15.png  0_theo_38.png\n",
            "0_george_16.png   0_jackson_39.png  0_nicolas_16.png  0_theo_39.png\n",
            "0_george_17.png   0_jackson_3.png   0_nicolas_17.png  0_theo_3.png\n",
            "0_george_18.png   0_jackson_40.png  0_nicolas_18.png  0_theo_40.png\n",
            "0_george_19.png   0_jackson_41.png  0_nicolas_19.png  0_theo_41.png\n",
            "0_george_1.png\t  0_jackson_42.png  0_nicolas_1.png   0_theo_42.png\n",
            "0_george_20.png   0_jackson_43.png  0_nicolas_20.png  0_theo_43.png\n",
            "0_george_21.png   0_jackson_44.png  0_nicolas_21.png  0_theo_44.png\n",
            "0_george_22.png   0_jackson_45.png  0_nicolas_22.png  0_theo_45.png\n",
            "0_george_23.png   0_jackson_46.png  0_nicolas_23.png  0_theo_46.png\n",
            "0_george_24.png   0_jackson_47.png  0_nicolas_24.png  0_theo_47.png\n",
            "0_george_25.png   0_jackson_48.png  0_nicolas_25.png  0_theo_48.png\n",
            "0_george_26.png   0_jackson_49.png  0_nicolas_26.png  0_theo_49.png\n",
            "0_george_27.png   0_jackson_4.png   0_nicolas_27.png  0_theo_4.png\n",
            "0_george_28.png   0_jackson_5.png   0_nicolas_28.png  0_theo_5.png\n",
            "0_george_29.png   0_jackson_6.png   0_nicolas_29.png  0_theo_6.png\n",
            "0_george_2.png\t  0_jackson_7.png   0_nicolas_2.png   0_theo_7.png\n",
            "0_george_30.png   0_jackson_8.png   0_nicolas_30.png  0_theo_8.png\n",
            "0_george_31.png   0_jackson_9.png   0_nicolas_31.png  0_theo_9.png\n",
            "0_george_32.png   0_lucas_0.png     0_nicolas_32.png  0_yweweler_0.png\n",
            "0_george_33.png   0_lucas_10.png    0_nicolas_33.png  0_yweweler_10.png\n",
            "0_george_34.png   0_lucas_11.png    0_nicolas_34.png  0_yweweler_11.png\n",
            "0_george_35.png   0_lucas_12.png    0_nicolas_35.png  0_yweweler_12.png\n",
            "0_george_36.png   0_lucas_13.png    0_nicolas_36.png  0_yweweler_13.png\n",
            "0_george_37.png   0_lucas_14.png    0_nicolas_37.png  0_yweweler_14.png\n",
            "0_george_38.png   0_lucas_15.png    0_nicolas_38.png  0_yweweler_15.png\n",
            "0_george_39.png   0_lucas_16.png    0_nicolas_39.png  0_yweweler_16.png\n",
            "0_george_3.png\t  0_lucas_17.png    0_nicolas_3.png   0_yweweler_17.png\n",
            "0_george_40.png   0_lucas_18.png    0_nicolas_40.png  0_yweweler_18.png\n",
            "0_george_41.png   0_lucas_19.png    0_nicolas_41.png  0_yweweler_19.png\n",
            "0_george_42.png   0_lucas_1.png     0_nicolas_42.png  0_yweweler_1.png\n",
            "0_george_43.png   0_lucas_20.png    0_nicolas_43.png  0_yweweler_20.png\n",
            "0_george_44.png   0_lucas_21.png    0_nicolas_44.png  0_yweweler_21.png\n",
            "0_george_45.png   0_lucas_22.png    0_nicolas_45.png  0_yweweler_22.png\n",
            "0_george_46.png   0_lucas_23.png    0_nicolas_46.png  0_yweweler_23.png\n",
            "0_george_47.png   0_lucas_24.png    0_nicolas_47.png  0_yweweler_24.png\n",
            "0_george_48.png   0_lucas_25.png    0_nicolas_48.png  0_yweweler_25.png\n",
            "0_george_49.png   0_lucas_26.png    0_nicolas_49.png  0_yweweler_26.png\n",
            "0_george_4.png\t  0_lucas_27.png    0_nicolas_4.png   0_yweweler_27.png\n",
            "0_george_5.png\t  0_lucas_28.png    0_nicolas_5.png   0_yweweler_28.png\n",
            "0_george_6.png\t  0_lucas_29.png    0_nicolas_6.png   0_yweweler_29.png\n",
            "0_george_7.png\t  0_lucas_2.png     0_nicolas_7.png   0_yweweler_2.png\n",
            "0_george_8.png\t  0_lucas_30.png    0_nicolas_8.png   0_yweweler_30.png\n",
            "0_george_9.png\t  0_lucas_31.png    0_nicolas_9.png   0_yweweler_31.png\n",
            "0_jackson_0.png   0_lucas_32.png    0_theo_0.png      0_yweweler_32.png\n",
            "0_jackson_10.png  0_lucas_33.png    0_theo_10.png     0_yweweler_33.png\n",
            "0_jackson_11.png  0_lucas_34.png    0_theo_11.png     0_yweweler_34.png\n",
            "0_jackson_12.png  0_lucas_35.png    0_theo_12.png     0_yweweler_35.png\n",
            "0_jackson_13.png  0_lucas_36.png    0_theo_13.png     0_yweweler_36.png\n",
            "0_jackson_14.png  0_lucas_37.png    0_theo_14.png     0_yweweler_37.png\n",
            "0_jackson_15.png  0_lucas_38.png    0_theo_15.png     0_yweweler_38.png\n",
            "0_jackson_16.png  0_lucas_39.png    0_theo_16.png     0_yweweler_39.png\n",
            "0_jackson_17.png  0_lucas_3.png     0_theo_17.png     0_yweweler_3.png\n",
            "0_jackson_18.png  0_lucas_40.png    0_theo_18.png     0_yweweler_40.png\n",
            "0_jackson_19.png  0_lucas_41.png    0_theo_19.png     0_yweweler_41.png\n",
            "0_jackson_1.png   0_lucas_42.png    0_theo_1.png      0_yweweler_42.png\n",
            "0_jackson_20.png  0_lucas_43.png    0_theo_20.png     0_yweweler_43.png\n",
            "0_jackson_21.png  0_lucas_44.png    0_theo_21.png     0_yweweler_44.png\n",
            "0_jackson_22.png  0_lucas_45.png    0_theo_22.png     0_yweweler_45.png\n",
            "0_jackson_23.png  0_lucas_46.png    0_theo_23.png     0_yweweler_46.png\n",
            "0_jackson_24.png  0_lucas_47.png    0_theo_24.png     0_yweweler_47.png\n",
            "0_jackson_25.png  0_lucas_48.png    0_theo_25.png     0_yweweler_48.png\n",
            "0_jackson_26.png  0_lucas_49.png    0_theo_26.png     0_yweweler_49.png\n",
            "0_jackson_27.png  0_lucas_4.png     0_theo_27.png     0_yweweler_4.png\n",
            "0_jackson_28.png  0_lucas_5.png     0_theo_28.png     0_yweweler_5.png\n",
            "0_jackson_29.png  0_lucas_6.png     0_theo_29.png     0_yweweler_6.png\n",
            "0_jackson_2.png   0_lucas_7.png     0_theo_2.png      0_yweweler_7.png\n",
            "0_jackson_30.png  0_lucas_8.png     0_theo_30.png     0_yweweler_8.png\n",
            "0_jackson_31.png  0_lucas_9.png     0_theo_31.png     0_yweweler_9.png\n",
            "Predicted class: tensor([7, 6, 5, 7, 4, 2, 2, 7, 1, 8, 9, 7, 4, 7, 5, 4, 3, 1, 9, 9, 2, 7, 8, 5,\n",
            "        3, 3, 0, 0, 1, 4, 2, 1])\n"
          ]
        }
      ]
    },
    {
      "cell_type": "code",
      "source": [
        "!pwd "
      ],
      "metadata": {
        "colab": {
          "base_uri": "https://localhost:8080/"
        },
        "id": "9_wt6wqMOzMC",
        "outputId": "3643c4c3-44cc-4e7b-b3dc-e849af079e93"
      },
      "execution_count": null,
      "outputs": [
        {
          "output_type": "stream",
          "name": "stdout",
          "text": [
            "/content\n"
          ]
        }
      ]
    },
    {
      "cell_type": "code",
      "source": [
        "\n"
      ],
      "metadata": {
        "id": "MtoZePqb8b7K"
      },
      "execution_count": null,
      "outputs": []
    }
  ]
}